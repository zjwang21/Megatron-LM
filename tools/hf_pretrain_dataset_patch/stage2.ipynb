{
 "cells": [
  {
   "cell_type": "code",
   "execution_count": 1,
   "metadata": {},
   "outputs": [],
   "source": [
    "import json\n",
    "with open(\"/home/nfs04/wangzj/dataset/pretrain/slimpajam_1b.jsonl\",  'r') as f:\n",
    "    data = [json.loads(k)  for k  in f.readlines()]"
   ]
  },
  {
   "cell_type": "code",
   "execution_count": 3,
   "metadata": {},
   "outputs": [],
   "source": [
    "for k in  data:\n",
    "    k['language'] = 'old'\n",
    "\n",
    "with  open(\"/home/wangzj/Megatron-LM/llamamoe/data/original_en_5w.jsonl\",  'w') as  f:\n",
    "    for k in  data[:50000]:\n",
    "        f.write(json.dumps(k,  ensure_ascii=False) +  '\\n')"
   ]
  },
  {
   "cell_type": "code",
   "execution_count": 5,
   "metadata": {},
   "outputs": [],
   "source": [
    "data  =  []\n",
    "with open(\"/home/wangzj/Megatron-LM/llamamoe/data/expanded_tr_5w.jsonl\",  'r') as f:\n",
    "    for   k in  f.readlines():  data.append(json.loads(k))\n",
    "\n",
    "with open(\"/home/wangzj/Megatron-LM/llamamoe/data/original_en_5w.jsonl\",  'r') as f:\n",
    "    for   k in  f.readlines():  data.append(json.loads(k))"
   ]
  },
  {
   "cell_type": "code",
   "execution_count": 8,
   "metadata": {},
   "outputs": [
    {
     "data": {
      "text/plain": [
       "{'text': 'Deutsche Welle\\'nin Conflict Zone programına konuk olan Cumhurbaşkanı Sözcüsü İbrahim Kalın, gazeteci Tim Sebastian\\'ın soruları karşısında zor anlar yaşadı.\\nBritanyalı gazeteci Tim Sebastian, Cumhurbaşkanlığı Sözcüsü İbrahim Kalın\\'ı HDP\\'li belediyelere atanan kayyumlar ve eş başkanların tutuklanması konusu üzerinden eleştirdi. Kalın\\'ın yanıtı \"Sanırım davalar hala devam ediyor ama suçlanacaklar\" olunca Sebastina \"Demokratik süreci çöpe attınız\" dedi. İkili arasındaki diyaloğu paylaşıyoruz.\\nBritanyalı gazeteci, kayyum atanan HDP\\'li belediyeler ve eş başkanların bir suçlama olmadan tutuklanıp, görevden alınmalarını eleştirdi.\\nBunun karşısında Kalın \"Sanırım davalar halen sürüyor. Suçlanacaklar\" yanıtını verebildi. Sebastian\\'ın Kalın\\'a Zaman gazetesine yazdığını hatırlatması ise ikilinin diyaloğunu sertleştirdi.\\nBerlin Forumu\\'ndaki sohbet sırasında Kalın\\'la Sebastian arasında geçen diyalog Diken\\'in aktardığına göre şu şekilde:',\n",
       " 'language': 'old'}"
      ]
     },
     "execution_count": 8,
     "metadata": {},
     "output_type": "execute_result"
    }
   ],
   "source": [
    "data[-1]"
   ]
  },
  {
   "cell_type": "code",
   "execution_count": 9,
   "metadata": {},
   "outputs": [],
   "source": [
    "with  open(\"/home/wangzj/Megatron-LM/llamamoe/data/stage2_en5w_tr5w.jsonl\",  'w') as  f:\n",
    "    for k in  data:\n",
    "        f.write(json.dumps(k,  ensure_ascii=False) +  '\\n')"
   ]
  }
 ],
 "metadata": {
  "kernelspec": {
   "display_name": "pai-megatron",
   "language": "python",
   "name": "python3"
  },
  "language_info": {
   "codemirror_mode": {
    "name": "ipython",
    "version": 3
   },
   "file_extension": ".py",
   "mimetype": "text/x-python",
   "name": "python",
   "nbconvert_exporter": "python",
   "pygments_lexer": "ipython3",
   "version": "3.10.0"
  }
 },
 "nbformat": 4,
 "nbformat_minor": 2
}
